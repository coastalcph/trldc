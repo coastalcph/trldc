{
 "cells": [
  {
   "cell_type": "markdown",
   "source": [
    "* The dataset can be download at http://qwone.com/~jason/20Newsgroups/\n",
    "~~~\n",
    "wget http://qwone.com/~jason/20Newsgroups/20news-bydate.tar.gz\n",
    "~~~"
   ],
   "metadata": {
    "collapsed": false,
    "pycharm": {
     "name": "#%% md\n"
    }
   }
  },
  {
   "cell_type": "code",
   "execution_count": 1,
   "outputs": [],
   "source": [
    "INPUT_DIR = \"/data/dai031/Corpora/20news-bydate\"\n",
    "OUTPUT_DIR = \"/data/dai031/ProcessedData/20newsbydate/0\""
   ],
   "metadata": {
    "collapsed": false,
    "pycharm": {
     "name": "#%%\n"
    }
   }
  },
  {
   "cell_type": "code",
   "execution_count": 2,
   "outputs": [
    {
     "data": {
      "text/plain": "11314"
     },
     "execution_count": 2,
     "metadata": {},
     "output_type": "execute_result"
    }
   ],
   "source": [
    "import os\n",
    "\n",
    "examples = []\n",
    "for label in os.listdir(os.path.join(INPUT_DIR, \"train\")):\n",
    "    for filename in os.listdir(os.path.join(INPUT_DIR, \"train\", label)):\n",
    "        text = open(os.path.join(INPUT_DIR, \"train\", label, filename), encoding=\"latin-1\").read()\n",
    "        examples.append({\"text\": text.replace(\"\\n\", \" \"), \"label\": label})\n",
    "len(examples)"
   ],
   "metadata": {
    "collapsed": false,
    "pycharm": {
     "name": "#%%\n"
    }
   }
  },
  {
   "cell_type": "code",
   "execution_count": 3,
   "outputs": [],
   "source": [
    "import random\n",
    "random.seed(52)\n",
    "random.shuffle(examples)\n",
    "\n",
    "dev_size = int(len(examples) * 0.1)\n",
    "train_set = examples[:-dev_size]\n",
    "dev_set = examples[-dev_size:]"
   ],
   "metadata": {
    "collapsed": false,
    "pycharm": {
     "name": "#%%\n"
    }
   }
  },
  {
   "cell_type": "code",
   "execution_count": 4,
   "outputs": [],
   "source": [
    "import json, numpy\n",
    "\n",
    "class NumpyJsonEncoder(json.JSONEncoder):\n",
    "    def default(self, obj):\n",
    "        if isinstance(obj, numpy.integer):\n",
    "            return int(obj)\n",
    "        elif isinstance(obj, numpy.floating):\n",
    "            return float(obj)\n",
    "        elif isinstance(obj, numpy.ndarray):\n",
    "            return obj.tolist()\n",
    "        else:\n",
    "            return super(NumpyJsonEncoder, self).default(obj)\n",
    "\n",
    "def write_list_to_json_file(data, filepath):\n",
    "    with open(filepath, \"w\") as f:\n",
    "        for i in data:\n",
    "            f.write(f\"{json.dumps(i, cls=NumpyJsonEncoder)}\\n\")\n",
    "\n",
    "os.makedirs(OUTPUT_DIR, exist_ok=True)\n",
    "\n",
    "write_list_to_json_file(train_set, os.path.join(OUTPUT_DIR, \"train.json\"))\n",
    "write_list_to_json_file(dev_set, os.path.join(OUTPUT_DIR, \"dev.json\"))"
   ],
   "metadata": {
    "collapsed": false,
    "pycharm": {
     "name": "#%%\n"
    }
   }
  },
  {
   "cell_type": "code",
   "execution_count": 5,
   "outputs": [],
   "source": [
    "examples = []\n",
    "for label in os.listdir(os.path.join(INPUT_DIR, \"test\")):\n",
    "    for filename in os.listdir(os.path.join(INPUT_DIR, \"test\", label)):\n",
    "        text = open(os.path.join(INPUT_DIR, \"test\", label, filename), encoding=\"latin-1\").read()\n",
    "        examples.append({\"text\": text.replace(\"\\n\", \" \"), \"label\": label})\n",
    "\n",
    "write_list_to_json_file(examples, os.path.join(OUTPUT_DIR, \"test.json\"))"
   ],
   "metadata": {
    "collapsed": false,
    "pycharm": {
     "name": "#%%\n"
    }
   }
  },
  {
   "cell_type": "code",
   "execution_count": 5,
   "outputs": [],
   "source": [],
   "metadata": {
    "collapsed": false,
    "pycharm": {
     "name": "#%%\n"
    }
   }
  }
 ],
 "metadata": {
  "kernelspec": {
   "display_name": "Python 3",
   "language": "python",
   "name": "python3"
  },
  "language_info": {
   "codemirror_mode": {
    "name": "ipython",
    "version": 2
   },
   "file_extension": ".py",
   "mimetype": "text/x-python",
   "name": "python",
   "nbconvert_exporter": "python",
   "pygments_lexer": "ipython2",
   "version": "2.7.6"
  }
 },
 "nbformat": 4,
 "nbformat_minor": 0
}