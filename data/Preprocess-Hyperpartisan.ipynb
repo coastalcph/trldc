{
 "cells": [
  {
   "cell_type": "markdown",
   "metadata": {
    "collapsed": true,
    "pycharm": {
     "name": "#%% md\n"
    }
   },
   "source": [
    "* This file is based on https://github.com/allenai/longformer/blob/master/scripts/hp_preprocess.py\n",
    "* The dataset can be found at https://pan.webis.de/semeval19/semeval19-web/ or https://zenodo.org/record/1489920#.Yl4coZ9Bzds\n",
    "* Make sure there are articles-training-byarticle-20181122.xml, ground-truth-training-byarticle-20181122.xml under your INPUT_DIR"
   ]
  },
  {
   "cell_type": "code",
   "execution_count": 1,
   "outputs": [],
   "source": [
    "import os\n",
    "import xml.etree.ElementTree as ET\n",
    "\n",
    "INPUT_DIR = \"/data/dai031/Corpora/HyperpartisanNewsDetection\"\n",
    "OUTPUT_DIR = \"/data/dai031/ProcessedData/HyperpartisanNewsDetection/0\"\n",
    "\n",
    "articles = ET.parse(os.path.join(INPUT_DIR, \"articles-training-byarticle-20181122.xml\")).getroot().findall(\"article\")\n",
    "labels = ET.parse(os.path.join(INPUT_DIR, \"ground-truth-training-byarticle-20181122.xml\")).getroot().findall(\"article\")\n",
    "assert len(articles) == len(labels)"
   ],
   "metadata": {
    "collapsed": false,
    "pycharm": {
     "name": "#%%\n"
    }
   }
  },
  {
   "cell_type": "code",
   "execution_count": 2,
   "outputs": [],
   "source": [
    "import re\n",
    "\n",
    "FLAGS = re.MULTILINE | re.DOTALL\n",
    "\n",
    "def re_sub(pattern, repl, text, flags=None):\n",
    "    if flags is None:\n",
    "        return re.sub(pattern, repl, text, flags=FLAGS)\n",
    "    else:\n",
    "        return re.sub(pattern, repl, text, flags=(FLAGS | flags))\n",
    "\n",
    "def clean_txt(text):\n",
    "\n",
    "    text = re.sub(r\"[a-zA-Z]+\\/[a-zA-Z]+\", \" \", text)\n",
    "    text = re.sub(r\"\\n\", \" \", text)\n",
    "    text = re.sub(r\"&#160;\", \"\", text)\n",
    "\n",
    "    # Remove URL\n",
    "    text = re_sub(r\"(http)\\S+\", \"\", text)\n",
    "    text = re_sub(r\"(www)\\S+\", \"\", text)\n",
    "    text = re_sub(r\"(href)\\S+\", \"\", text)\n",
    "    # Remove multiple spaces\n",
    "    text = re_sub(r\"[ \\s\\t\\n]+\", \" \", text)\n",
    "\n",
    "    # remove repetition\n",
    "    text = re_sub(r\"([!?.]){2,}\", r\"\\1\", text)\n",
    "    text = re_sub(r\"\\b(\\S*?)(.)\\2{2,}\\b\", r\"\\1\\2\", text)\n",
    "\n",
    "    return text.strip()"
   ],
   "metadata": {
    "collapsed": false,
    "pycharm": {
     "name": "#%%\n"
    }
   }
  },
  {
   "cell_type": "code",
   "execution_count": 3,
   "outputs": [
    {
     "name": "stderr",
     "output_type": "stream",
     "text": [
      "preprocessing: 100%|██████████| 645/645 [00:00<00:00, 1343.01it/s]\n"
     ]
    }
   ],
   "source": [
    "from tqdm import tqdm\n",
    "\n",
    "data = {}\n",
    "for article, label in tqdm(zip(articles, labels), total=len(articles), desc=\"preprocessing\"):\n",
    "    text = ET.tostring(article, method=\"text\", encoding=\"utf-8\").decode(\"utf-8\")\n",
    "    text = clean_txt(text)\n",
    "    id_ = int(label.attrib[\"id\"])\n",
    "    data[id_] = {\"text\": text, \"label\": label.attrib[\"hyperpartisan\"], \"id\": id_}"
   ],
   "metadata": {
    "collapsed": false,
    "pycharm": {
     "name": "#%%\n"
    }
   }
  },
  {
   "cell_type": "code",
   "execution_count": 4,
   "outputs": [],
   "source": [
    "import json\n",
    "from collections import defaultdict\n",
    "\n",
    "splits = defaultdict(list)\n",
    "for s, ids in json.load(open(os.path.join(INPUT_DIR, \"hp-splits.json\"))).items():\n",
    "    for i in ids:\n",
    "        splits[s].append(data[i])"
   ],
   "metadata": {
    "collapsed": false,
    "pycharm": {
     "name": "#%%\n"
    }
   }
  },
  {
   "cell_type": "code",
   "execution_count": 5,
   "outputs": [],
   "source": [
    "import json, numpy\n",
    "\n",
    "class NumpyJsonEncoder(json.JSONEncoder):\n",
    "    def default(self, obj):\n",
    "        if isinstance(obj, numpy.integer):\n",
    "            return int(obj)\n",
    "        elif isinstance(obj, numpy.floating):\n",
    "            return float(obj)\n",
    "        elif isinstance(obj, numpy.ndarray):\n",
    "            return obj.tolist()\n",
    "        else:\n",
    "            return super(NumpyJsonEncoder, self).default(obj)\n",
    "\n",
    "def write_list_to_json_file(data, filepath):\n",
    "    with open(filepath, \"w\") as f:\n",
    "        for i in data:\n",
    "            f.write(f\"{json.dumps(i, cls=NumpyJsonEncoder)}\\n\")\n",
    "\n",
    "os.makedirs(OUTPUT_DIR, exist_ok=True)\n",
    "\n",
    "for s, data in splits.items():\n",
    "    write_list_to_json_file(data, os.path.join(OUTPUT_DIR, f\"{s}.json\"))"
   ],
   "metadata": {
    "collapsed": false,
    "pycharm": {
     "name": "#%%\n"
    }
   }
  },
  {
   "cell_type": "code",
   "execution_count": 5,
   "outputs": [],
   "source": [],
   "metadata": {
    "collapsed": false,
    "pycharm": {
     "name": "#%%\n"
    }
   }
  }
 ],
 "metadata": {
  "kernelspec": {
   "display_name": "Python 3",
   "language": "python",
   "name": "python3"
  },
  "language_info": {
   "codemirror_mode": {
    "name": "ipython",
    "version": 2
   },
   "file_extension": ".py",
   "mimetype": "text/x-python",
   "name": "python",
   "nbconvert_exporter": "python",
   "pygments_lexer": "ipython2",
   "version": "2.7.6"
  }
 },
 "nbformat": 4,
 "nbformat_minor": 0
}